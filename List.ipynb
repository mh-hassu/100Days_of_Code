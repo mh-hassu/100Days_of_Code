{
 "cells": [
  {
   "cell_type": "markdown",
   "id": "44314539-63bb-4625-9533-d998cf51e70e",
   "metadata": {},
   "source": [
    "##  What is a List?\n",
    "🔹 A list in Python is a collection of items (elements) that can hold different data types (integers, strings, floats, even other lists).\n",
    "\n",
    "🔹 Lists are ordered, mutable (changeable), and allow duplicate values."
   ]
  },
  {
   "cell_type": "code",
   "execution_count": 68,
   "id": "c94b486b-a1e9-4a63-b9a9-2f7a5bad39a2",
   "metadata": {},
   "outputs": [
    {
     "name": "stdout",
     "output_type": "stream",
     "text": [
      "['apple', 12, 'Hi']\n"
     ]
    }
   ],
   "source": [
    "empty = []\n",
    "numbers = [1,2,3,4]\n",
    "mixed = ['apple',12,'Hi']\n",
    "print(mixed)"
   ]
  },
  {
   "cell_type": "markdown",
   "id": "82e09167-b6fb-494b-b1d2-b33293ea2f6e",
   "metadata": {},
   "source": [
    "# Accessing Elements\n",
    "🔹Lists use indexing (starting from 0)."
   ]
  },
  {
   "cell_type": "code",
   "execution_count": 1,
   "id": "6040de2e-9d04-48e4-b9bb-88dec68abdd8",
   "metadata": {},
   "outputs": [],
   "source": [
    "numbers = [1,2,3,4]\n",
    "mixed = ['apple',12,'Hi']\n",
    "fruits =['apple', 'banana', 'cherry' ,'mango','grape']"
   ]
  },
  {
   "cell_type": "code",
   "execution_count": 76,
   "id": "7de4c02c-62a0-4960-8a4d-4f0a9b3b9265",
   "metadata": {},
   "outputs": [
    {
     "data": {
      "text/plain": [
       "('Hi', 'cherry', 4)"
      ]
     },
     "execution_count": 76,
     "metadata": {},
     "output_type": "execute_result"
    }
   ],
   "source": [
    "mixed [2] , fruits [3],  numbers [-1] # -1 will take last element"
   ]
  },
  {
   "cell_type": "markdown",
   "id": "379d2b23-b81c-46f2-8b7b-a56cc55255ea",
   "metadata": {},
   "source": [
    "# Slicing  \n",
    "[ start , stop , space ]"
   ]
  },
  {
   "cell_type": "code",
   "execution_count": 82,
   "id": "2656e4d8-83bc-46ea-a871-8e507add904b",
   "metadata": {},
   "outputs": [
    {
     "name": "stdout",
     "output_type": "stream",
     "text": [
      "[20, 30, 40]\n",
      "[10, 20, 30]\n",
      "[30, 40, 50]\n",
      "[50, 30, 10]\n"
     ]
    }
   ],
   "source": [
    "numbers = [10, 20, 30, 40, 50]\n",
    "\n",
    "print(numbers[1:4])   # the ouput will be 10 to 40\n",
    "print(numbers[:3])    # [10, 20, 30] the output is 10 to 30\n",
    "print(numbers[2:])    # [30, 40, 50]\n",
    "print(numbers[::-2])  # [::-1] it reverses the list. if there is [::-2] it reverses the list but then it will leave one element \n"
   ]
  },
  {
   "cell_type": "markdown",
   "id": "8f79101b-c82a-47e5-86e2-a492a3e0df0c",
   "metadata": {},
   "source": [
    "# Adding elements in list"
   ]
  },
  {
   "cell_type": "code",
   "execution_count": 86,
   "id": "cb80cf15-a8e1-4e1a-bb36-d3af82520464",
   "metadata": {},
   "outputs": [
    {
     "name": "stdout",
     "output_type": "stream",
     "text": [
      "['apple', 'banana', 'cherry']\n",
      "['apple', 'mango', 'banana', 'cherry']\n",
      "['apple', 'mango', 'banana', 'cherry', 'kiwi', 'orange']\n"
     ]
    }
   ],
   "source": [
    "fruits = [\"apple\", \"banana\"]\n",
    "\n",
    "fruits.append(\"cherry\")     # it will Add at the end of the list   & it only add one element\n",
    "print(fruits)  \n",
    "\n",
    "fruits.insert(1, \"mango\" ,)   # it will Add at specific index   & it also add one element\n",
    "print(fruits) \n",
    "\n",
    "fruits.extend([\"kiwi\", \"orange\"])  # extend add more than one element\n",
    "print(fruits)  \n"
   ]
  },
  {
   "cell_type": "markdown",
   "id": "8527335f-1c57-4946-8d1b-e5a065a76dba",
   "metadata": {},
   "source": [
    "# Removing elements from list"
   ]
  },
  {
   "cell_type": "code",
   "execution_count": null,
   "id": "0bbcb4e3-1606-4a37-abc5-f854f45e52dd",
   "metadata": {},
   "outputs": [],
   "source": [
    "fruits = [\"apple\", \"banana\", \"cherry\", \"banana\"]\n",
    "\n",
    "fruits.remove(\"banana\")  # it will Removes first 'banana'\n",
    "print(fruits)  \n",
    "\n",
    "fruits.pop(1)  # it will Removes element that is at 1 index \n",
    "print(fruits)  \n",
    "\n",
    "last_item = fruits.pop()  # pop always remove element from last\n",
    "print(last_item)  \n",
    "\n",
    "fruits.clear()  # Removes all elements  and make the list empty []\n",
    "print(fruits)  \n"
   ]
  },
  {
   "cell_type": "code",
   "execution_count": 17,
   "id": "3cf34675-b9b8-42c9-9fb6-0868e7b45e95",
   "metadata": {},
   "outputs": [
    {
     "name": "stdout",
     "output_type": "stream",
     "text": [
      "['apple', 'banana', 'cherry']\n"
     ]
    }
   ],
   "source": [
    "fruits = [\"apple\", \"banana\", \"cherry\", \"banana\"]\n",
    "fruits.pop()\n",
    "print(fruits) "
   ]
  },
  {
   "cell_type": "markdown",
   "id": "cf614766-3ed2-4e97-ad00-23e08be021df",
   "metadata": {},
   "source": [
    "# Sorting and Reversing"
   ]
  },
  {
   "cell_type": "code",
   "execution_count": 29,
   "id": "8f00e947-2cd5-4e36-899b-a329a96c6dd6",
   "metadata": {},
   "outputs": [
    {
     "name": "stdout",
     "output_type": "stream",
     "text": [
      "[1, 2, 3, 4, 5, 6]\n",
      "[6, 5, 4, 3, 2, 1]\n"
     ]
    }
   ],
   "source": [
    "numbers = [6,1,2,5,3,4]\n",
    "numbers.sort()\n",
    "print(numbers)\n",
    "numbers.sort(reverse = True)\n",
    "print (numbers)\n"
   ]
  },
  {
   "cell_type": "code",
   "execution_count": 38,
   "id": "0d8caf0a-58dd-4b56-84a1-2cc8af0bb0b8",
   "metadata": {},
   "outputs": [
    {
     "name": "stdout",
     "output_type": "stream",
     "text": [
      "['Grapes', 'cherry', 'banana', 'apple']\n",
      "['cherry', 'banana', 'apple', 'Grapes']\n"
     ]
    }
   ],
   "source": [
    "fruits = [\"apple\", \"banana\", \"cherry\", 'Grapes']\n",
    "fruits.reverse()\n",
    "print(fruits) \n",
    "fruits.sort(reverse = True)\n",
    "print(fruits)"
   ]
  },
  {
   "cell_type": "markdown",
   "id": "c19465d2-4428-4c62-8b15-6fc703ed7f84",
   "metadata": {},
   "source": [
    "# list in loops"
   ]
  },
  {
   "cell_type": "code",
   "execution_count": 55,
   "id": "9a206243-a0d6-43eb-a144-aab91599b2a6",
   "metadata": {},
   "outputs": [
    {
     "name": "stdout",
     "output_type": "stream",
     "text": [
      "['cherry', 'banana', 'apple', 'Grapes']\n",
      "cherry\n",
      "banana\n",
      "apple\n",
      "Grapes\n"
     ]
    }
   ],
   "source": [
    "print(fruits)\n",
    "for temp in fruits:\n",
    "    print(temp)\n"
   ]
  },
  {
   "cell_type": "code",
   "execution_count": 54,
   "id": "0d1b0756-7191-4934-afd9-9e2a54b1b6f1",
   "metadata": {},
   "outputs": [
    {
     "name": "stdout",
     "output_type": "stream",
     "text": [
      "cherry\n",
      "banana\n",
      "apple\n",
      "Grapes\n"
     ]
    }
   ],
   "source": [
    "for temp in range(len(fruits)):\n",
    "    print(fruits[temp])"
   ]
  },
  {
   "cell_type": "markdown",
   "id": "1820d193-ba21-4c5d-9411-18602d51e487",
   "metadata": {},
   "source": [
    "# Nested lists`"
   ]
  },
  {
   "cell_type": "code",
   "execution_count": 86,
   "id": "d835db15-a0fb-4d93-8554-88e4c249eaf0",
   "metadata": {},
   "outputs": [
    {
     "name": "stdout",
     "output_type": "stream",
     "text": [
      "['cherry', 'banana', 'apple', 'Grapes', 'orange', 'WaterMelon', 'Mango']\n",
      "['cherry', 'banana', 'apple', 'Grapes', 'orange', 'WaterMelon', 'Mango']\n"
     ]
    },
    {
     "data": {
      "text/plain": [
       "'orange'"
      ]
     },
     "execution_count": 86,
     "metadata": {},
     "output_type": "execute_result"
    }
   ],
   "source": [
    "print (fruits)\n",
    "fruits.extend([\"orange\",\"WaterMelon\",\"Mango\"])\n",
    "print (fruits)\n"
   ]
  },
  {
   "cell_type": "code",
   "execution_count": 92,
   "id": "d588df1d-4331-4a90-834d-10aee4d04994",
   "metadata": {},
   "outputs": [
    {
     "name": "stdout",
     "output_type": "stream",
     "text": [
      "10\n",
      "1\n"
     ]
    }
   ],
   "source": [
    "numbers = [1,2,3,4,5,6,7,8,1,1]\n",
    "print(len(numbers))\n",
    "print(min(numbers))"
   ]
  }
 ],
 "metadata": {
  "kernelspec": {
   "display_name": "Python 3 (ipykernel)",
   "language": "python",
   "name": "python3"
  },
  "language_info": {
   "codemirror_mode": {
    "name": "ipython",
    "version": 3
   },
   "file_extension": ".py",
   "mimetype": "text/x-python",
   "name": "python",
   "nbconvert_exporter": "python",
   "pygments_lexer": "ipython3",
   "version": "3.13.5"
  }
 },
 "nbformat": 4,
 "nbformat_minor": 5
}
