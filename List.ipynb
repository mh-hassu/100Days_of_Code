{
 "cells": [
  {
   "cell_type": "markdown",
   "id": "44314539-63bb-4625-9533-d998cf51e70e",
   "metadata": {},
   "source": [
    "##  What is a List?\n",
    "🔹 A list in Python is a collection of items (elements) that can hold different data types (integers, strings, floats, even other lists).\n",
    "\n",
    "🔹 Lists are ordered, mutable (changeable), and allow duplicate values."
   ]
  },
  {
   "cell_type": "code",
   "execution_count": 1,
   "id": "c94b486b-a1e9-4a63-b9a9-2f7a5bad39a2",
   "metadata": {},
   "outputs": [
    {
     "data": {
      "text/plain": [
       "['apple', 12, 'Hi']"
      ]
     },
     "execution_count": 1,
     "metadata": {},
     "output_type": "execute_result"
    }
   ],
   "source": [
    "empty = []\n",
    "numbers = [1,2,3,4]\n",
    "mixed = ['apple',12,'Hi']\n",
    "mixed"
   ]
  },
  {
   "cell_type": "markdown",
   "id": "82e09167-b6fb-494b-b1d2-b33293ea2f6e",
   "metadata": {},
   "source": [
    "# 1 .Accessing Elements\n",
    "🔹Lists use indexing (starting from 0)."
   ]
  },
  {
   "cell_type": "code",
   "execution_count": 1,
   "id": "6040de2e-9d04-48e4-b9bb-88dec68abdd8",
   "metadata": {},
   "outputs": [],
   "source": [
    "numbers = [1,2,3,4]\n",
    "mixed = ['apple',12,'Hi']\n",
    "fruits =['apple', 'banana', 'cherry' ,'mango','grape']"
   ]
  },
  {
   "cell_type": "code",
   "execution_count": 76,
   "id": "7de4c02c-62a0-4960-8a4d-4f0a9b3b9265",
   "metadata": {},
   "outputs": [
    {
     "data": {
      "text/plain": [
       "('Hi', 'cherry', 4)"
      ]
     },
     "execution_count": 76,
     "metadata": {},
     "output_type": "execute_result"
    }
   ],
   "source": [
    "mixed [2] , fruits [3],  numbers [-1] # -1 will take last element"
   ]
  },
  {
   "cell_type": "markdown",
   "id": "379d2b23-b81c-46f2-8b7b-a56cc55255ea",
   "metadata": {},
   "source": [
    "# 2 .Slicing  \n",
    "[ start , stop , space ]"
   ]
  },
  {
   "cell_type": "code",
   "execution_count": 7,
   "id": "2656e4d8-83bc-46ea-a871-8e507add904b",
   "metadata": {},
   "outputs": [
    {
     "name": "stdout",
     "output_type": "stream",
     "text": [
      "[20, 30, 40]\n",
      "[10, 20, 30]\n",
      "[30, 40, 50]\n",
      "[50, 40, 30, 20, 10]\n"
     ]
    }
   ],
   "source": [
    "numbers = [10, 20, 30, 40, 50]\n",
    "\n",
    "print(numbers[1:4])   # the ouput will be 10 to 40\n",
    "print(numbers[:3])    # [10, 20, 30] the output is 10 to 30\n",
    "print(numbers[2:])    # [30, 40, 50]\n",
    "print(numbers[::-1])  # [::-1] it reverses the list . if there is [::-2] it reverses the list but then it will leave one element \n",
    "                    # it reverses without reverse function"
   ]
  },
  {
   "cell_type": "markdown",
   "id": "8f79101b-c82a-47e5-86e2-a492a3e0df0c",
   "metadata": {},
   "source": [
    "# 3 .Adding elements in list"
   ]
  },
  {
   "cell_type": "code",
   "execution_count": 86,
   "id": "cb80cf15-a8e1-4e1a-bb36-d3af82520464",
   "metadata": {},
   "outputs": [
    {
     "name": "stdout",
     "output_type": "stream",
     "text": [
      "['apple', 'banana', 'cherry']\n",
      "['apple', 'mango', 'banana', 'cherry']\n",
      "['apple', 'mango', 'banana', 'cherry', 'kiwi', 'orange']\n"
     ]
    }
   ],
   "source": [
    "fruits = [\"apple\", \"banana\"]\n",
    "\n",
    "fruits.append(\"cherry\")     # it will Add at the end of the list   & it only add one element\n",
    "print(fruits)  \n",
    "\n",
    "fruits.insert(1, \"mango\" ,)   # it will Add at specific index   & it also add one element\n",
    "print(fruits) \n",
    "\n",
    "fruits.extend([\"kiwi\", \"orange\"])  # extend add more than one element\n",
    "print(fruits)  \n"
   ]
  },
  {
   "cell_type": "markdown",
   "id": "8527335f-1c57-4946-8d1b-e5a065a76dba",
   "metadata": {},
   "source": [
    "# 4 .Removing elements from list"
   ]
  },
  {
   "cell_type": "code",
   "execution_count": null,
   "id": "0bbcb4e3-1606-4a37-abc5-f854f45e52dd",
   "metadata": {},
   "outputs": [],
   "source": [
    "fruits = [\"apple\", \"banana\", \"cherry\", \"banana\"]\n",
    "\n",
    "fruits.remove(\"banana\")  # it will Removes first 'banana'\n",
    "print(fruits)  \n",
    "\n",
    "fruits.pop(1)  # it will Removes element that is at 1 index \n",
    "print(fruits)  \n",
    "\n",
    "last_item = fruits.pop()  # pop always remove element from last\n",
    "print(last_item)  \n",
    "\n",
    "fruits.clear()  # Removes all elements  and make the list empty []\n",
    "print(fruits)  \n"
   ]
  },
  {
   "cell_type": "code",
   "execution_count": 17,
   "id": "3cf34675-b9b8-42c9-9fb6-0868e7b45e95",
   "metadata": {},
   "outputs": [
    {
     "name": "stdout",
     "output_type": "stream",
     "text": [
      "['apple', 'banana', 'cherry']\n"
     ]
    }
   ],
   "source": [
    "fruits = [\"apple\", \"banana\", \"cherry\", \"banana\"]\n",
    "fruits.pop()\n",
    "print(fruits) "
   ]
  },
  {
   "cell_type": "markdown",
   "id": "cf614766-3ed2-4e97-ad00-23e08be021df",
   "metadata": {},
   "source": [
    "# Sorting and Reversing"
   ]
  },
  {
   "cell_type": "code",
   "execution_count": 29,
   "id": "8f00e947-2cd5-4e36-899b-a329a96c6dd6",
   "metadata": {},
   "outputs": [
    {
     "name": "stdout",
     "output_type": "stream",
     "text": [
      "[1, 2, 3, 4, 5, 6]\n",
      "[6, 5, 4, 3, 2, 1]\n"
     ]
    }
   ],
   "source": [
    "numbers = [6,1,2,5,3,4]\n",
    "numbers.sort()    # it make the list in   Ascending order\n",
    "print(numbers)\n",
    "numbers.sort(reverse = True)  # Descending order\n",
    "print (numbers)\n"
   ]
  },
  {
   "cell_type": "code",
   "execution_count": 142,
   "id": "0d8caf0a-58dd-4b56-84a1-2cc8af0bb0b8",
   "metadata": {},
   "outputs": [
    {
     "name": "stdout",
     "output_type": "stream",
     "text": [
      "['Grapes', 'cherry', 'banana', 'apple']\n"
     ]
    }
   ],
   "source": [
    "fruits = [\"apple\", \"banana\", \"cherry\", 'Grapes']\n",
    "fruits.reverse() # just reverse order\n",
    "print(fruits) \n"
   ]
  },
  {
   "cell_type": "markdown",
   "id": "c19465d2-4428-4c62-8b15-6fc703ed7f84",
   "metadata": {},
   "source": [
    "# list in loops"
   ]
  },
  {
   "cell_type": "code",
   "execution_count": 90,
   "id": "0d1b0756-7191-4934-afd9-9e2a54b1b6f1",
   "metadata": {},
   "outputs": [
    {
     "name": "stdout",
     "output_type": "stream",
     "text": [
      "['apple', 'banana', 'cherry', 'Grapes', 'orange', 'WaterMelon', 'Mango']\n",
      "0\n",
      "1\n",
      "2\n",
      "3\n",
      "4\n",
      "5\n",
      "6\n"
     ]
    }
   ],
   "source": [
    "print(fruits)\n",
    "for temp in range(len(fruits)): # in this i have checked the length of elements in lists with loops\n",
    "    print(temp)"
   ]
  },
  {
   "cell_type": "markdown",
   "id": "1820d193-ba21-4c5d-9411-18602d51e487",
   "metadata": {},
   "source": [
    "# Nested lists`"
   ]
  },
  {
   "cell_type": "code",
   "execution_count": 94,
   "id": "d835db15-a0fb-4d93-8554-88e4c249eaf0",
   "metadata": {},
   "outputs": [
    {
     "data": {
      "text/plain": [
       "[['apple', 'banana', ['cherry']],\n",
       " ['Grapes', 'orange', ['WaterMelon'], 'Mango']]"
      ]
     },
     "execution_count": 94,
     "metadata": {},
     "output_type": "execute_result"
    }
   ],
   "source": [
    "fruits = [['apple', 'banana', ['cherry']],['Grapes', 'orange', ['WaterMelon'], 'Mango']] # this is example of nested lists\n",
    "fruits"
   ]
  },
  {
   "cell_type": "code",
   "execution_count": 145,
   "id": "d588df1d-4331-4a90-834d-10aee4d04994",
   "metadata": {},
   "outputs": [
    {
     "name": "stdout",
     "output_type": "stream",
     "text": [
      "10\n",
      "1\n",
      "8\n"
     ]
    }
   ],
   "source": [
    "numbers = [1,2,3,4,5,6,7,8,1,1]\n",
    "print(len(numbers))\n",
    "print(min(numbers)) # tell the small number in the list\n",
    "print(max(numbers)) # tell the largest number in the list"
   ]
  },
  {
   "cell_type": "markdown",
   "id": "94f3e9cb-c2b5-4d5e-9b40-aa72115a550c",
   "metadata": {},
   "source": [
    "# Shallow copy  method 1"
   ]
  },
  {
   "cell_type": "code",
   "execution_count": 75,
   "id": "98265a91-7d99-4d13-8995-c261116a7050",
   "metadata": {},
   "outputs": [
    {
     "name": "stdout",
     "output_type": "stream",
     "text": [
      "[['Fast', 'Nust'], ['Ned', 'Bahria', 'Smiu', 'Dawood', 'Dha suffa']]\n"
     ]
    }
   ],
   "source": [
    "uni = [[\"Fast\", \"Nust\"], [\"Ned\", \"Bahria\",\"Smiu\",\"Dawood\",\"Dha suffa\"]] #this is a nested list of uni\n",
    "print(uni)"
   ]
  },
  {
   "cell_type": "code",
   "execution_count": 76,
   "id": "18e4a9f3-3b27-4004-93d7-dfc8e2223ccd",
   "metadata": {},
   "outputs": [
    {
     "name": "stdout",
     "output_type": "stream",
     "text": [
      "1467364720704 [['Fast', 'Nust'], ['Ned', 'Bahria', 'Smiu', 'Dawood', 'Lums']]\n",
      "1467364001536 [['Fast', 'Nust'], ['Ned', 'Bahria', 'Smiu', 'Dawood', 'Lums']]\n"
     ]
    }
   ],
   "source": [
    "top_uni = uni.copy() # i have used the .copy method\n",
    "top_uni [1][4] = \"Lums\" # Added lum by slicing \n",
    "\n",
    "print(id(uni),uni)\n",
    "print(id(top_uni),top_uni)"
   ]
  },
  {
   "cell_type": "markdown",
   "id": "48d5f9bb-11f1-4045-b8af-5be3e59113f2",
   "metadata": {},
   "source": [
    "# Method 2"
   ]
  },
  {
   "cell_type": "code",
   "execution_count": 77,
   "id": "93b11baa-cbb3-4f60-9d7c-29f392b074bc",
   "metadata": {},
   "outputs": [
    {
     "name": "stdout",
     "output_type": "stream",
     "text": [
      "[['Fast', 'Nust'], ['Ned', 'Bahria', 'Smiu', 'Dawood', 'Dha suffa']]\n"
     ]
    }
   ],
   "source": [
    "uni = [[\"Fast\", \"Nust\"], [\"Ned\", \"Bahria\",\"Smiu\",\"Dawood\",\"Dha suffa\"]]\n",
    "print(uni)\n",
    "top_uni = uni\n",
    "top_uni.append(\"Mite\") # add on element by append method"
   ]
  },
  {
   "cell_type": "code",
   "execution_count": 78,
   "id": "bfeb8d5f-b85c-4182-b5c5-9bc4cd9832ec",
   "metadata": {},
   "outputs": [
    {
     "name": "stdout",
     "output_type": "stream",
     "text": [
      "1467363955712 [['Fast', 'Nust'], ['Ned', 'Bahria', 'Smiu', 'Dawood', 'Dha suffa'], 'Mite']\n",
      "1467363955712 [['Fast', 'Nust'], ['Ned', 'Bahria', 'Smiu', 'Dawood', 'Dha suffa'], 'Mite']\n"
     ]
    }
   ],
   "source": [
    "print(id(uni),uni)\n",
    "print(id(top_uni),top_uni)"
   ]
  },
  {
   "cell_type": "markdown",
   "id": "71cde83e-7f2a-4644-834a-7cdc34eb7cee",
   "metadata": {},
   "source": [
    "# Deep Copy  method 1"
   ]
  },
  {
   "cell_type": "code",
   "execution_count": 56,
   "id": "e3534a4b-b7da-4626-af03-8fd9b694bf4d",
   "metadata": {},
   "outputs": [
    {
     "name": "stdout",
     "output_type": "stream",
     "text": [
      "[['Cricket', 'Football'], ['Basketball', 'Tennis', 'Racing', 'Volleyball', 'Squash']]\n"
     ]
    }
   ],
   "source": [
    "sports = [[\"Cricket\" , \"Football\"] , [\"Basketball\",\"Tennis\",\"Racing\",\"Volleyball\",'Squash']]\n",
    "print(sports)"
   ]
  },
  {
   "cell_type": "code",
   "execution_count": 80,
   "id": "c0becc57-413d-4cd0-b2c9-d43412b89bbf",
   "metadata": {},
   "outputs": [
    {
     "name": "stdout",
     "output_type": "stream",
     "text": [
      "1467364659904 [['Cricket', 'Football'], ['Basketball', 'Tennis', 'Racing', 'Volleyball', 'Squash']]\n",
      "1467364971136 [['Cricket', 'Football'], ['Basketball', 'Tennis', 'Racing', 'Volleyball', 'Swimming']]\n"
     ]
    }
   ],
   "source": [
    "top_sports = copy.deepcopy(sports) # in this code i have used deepcopy mehtod \n",
    "top_sports [1][4]= \"Swimming\" # adding element by slicing\n",
    "\n",
    "print(id(sports),sports)\n",
    "print(id(top_sports),top_sports)\n"
   ]
  },
  {
   "cell_type": "markdown",
   "id": "d4f90eb3-2952-48e4-a9b6-9fc5c323f87c",
   "metadata": {},
   "source": [
    "# Method 2"
   ]
  },
  {
   "cell_type": "code",
   "execution_count": 84,
   "id": "13127cfd-9947-4369-8a5d-2f8e5604c082",
   "metadata": {},
   "outputs": [
    {
     "name": "stdout",
     "output_type": "stream",
     "text": [
      "1467364606528 [['Cricket', 'Football'], ['Basketball', 'Tennis', 'Racing', 'Volleyball', 'Squash']]\n",
      "1467364722240 [['Cricket', 'Football'], ['Basketball', 'Tennis', 'Racing', 'Volleyball', 'Squash'], 'Swimming']\n"
     ]
    }
   ],
   "source": [
    "sports = [[\"Cricket\" , \"Football\"] , [\"Basketball\",\"Tennis\",\"Racing\",\"Volleyball\",'Squash']]\n",
    "print(id(sports),sports)\n",
    "\n",
    "top_sports = copy.deepcopy(sports)\n",
    "\n",
    "top_sports.append(\"Swimming\")\n",
    "\n",
    "print(id(top_sports),top_sports)"
   ]
  },
  {
   "cell_type": "markdown",
   "id": "08813555-006c-40ae-b69d-520eff51219a",
   "metadata": {},
   "source": [
    "# List Comprehension "
   ]
  },
  {
   "cell_type": "code",
   "execution_count": 107,
   "id": "e42afe6b-d6c8-41df-98c1-f4fdedccb3e7",
   "metadata": {},
   "outputs": [
    {
     "data": {
      "text/plain": [
       "[1, 4, 9, 16, 25, 36, 49, 64, 81]"
      ]
     },
     "execution_count": 107,
     "metadata": {},
     "output_type": "execute_result"
    }
   ],
   "source": [
    "list1 = [temp**2 for temp in range(1,10)]  #in this code loop will run from 1 to 9 and give the square of each of it \n",
    "list1                   # this is list comprehension "
   ]
  },
  {
   "cell_type": "code",
   "execution_count": 123,
   "id": "c1ab846f-9fd9-4665-ae7e-13c72a64b2e5",
   "metadata": {},
   "outputs": [
    {
     "name": "stdin",
     "output_type": "stream",
     "text": [
      "Enter your age:  18\n"
     ]
    },
    {
     "data": {
      "text/plain": [
       "['Eligible for vote']"
      ]
     },
     "execution_count": 123,
     "metadata": {},
     "output_type": "execute_result"
    }
   ],
   "source": [
    "age = int(input(\"Enter your age: \"))\n",
    "vote = [\"Eligible for vote\" if age >=18  else\"not eligible\" ]  # In this code user will give the age ,and then program will\n",
    "vote                                                          # check either the user is eligible for vote or not"
   ]
  },
  {
   "cell_type": "code",
   "execution_count": 131,
   "id": "b0f58813-43de-4f08-91bd-9858aa40c852",
   "metadata": {},
   "outputs": [
    {
     "data": {
      "text/plain": [
       "['5 X 1 = 5 ',\n",
       " '5 X 2 = 10 ',\n",
       " '5 X 3 = 15 ',\n",
       " '5 X 4 = 20 ',\n",
       " '5 X 5 = 25 ',\n",
       " '5 X 6 = 30 ',\n",
       " '5 X 7 = 35 ',\n",
       " '5 X 8 = 40 ',\n",
       " '5 X 9 = 45 ',\n",
       " '5 X 10 = 50 ']"
      ]
     },
     "execution_count": 131,
     "metadata": {},
     "output_type": "execute_result"
    }
   ],
   "source": [
    "table = [f\"5 X {temp} = {5*temp} \"for temp in range(1,11)] #Inthis code i have made the table by the help of list comprehension\n",
    "table                                                          "
   ]
  }
 ],
 "metadata": {
  "kernelspec": {
   "display_name": "Python 3 (ipykernel)",
   "language": "python",
   "name": "python3"
  },
  "language_info": {
   "codemirror_mode": {
    "name": "ipython",
    "version": 3
   },
   "file_extension": ".py",
   "mimetype": "text/x-python",
   "name": "python",
   "nbconvert_exporter": "python",
   "pygments_lexer": "ipython3",
   "version": "3.13.5"
  }
 },
 "nbformat": 4,
 "nbformat_minor": 5
}
