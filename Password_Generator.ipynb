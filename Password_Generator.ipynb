{
 "cells": [
  {
   "cell_type": "markdown",
   "id": "33645218-da77-48b8-a510-1fa8de4d3b0a",
   "metadata": {},
   "source": [
    "# Password Generator"
   ]
  },
  {
   "cell_type": "code",
   "execution_count": 8,
   "id": "e919875d-f408-4aae-afa4-60d3953fe392",
   "metadata": {},
   "outputs": [
    {
     "name": "stdin",
     "output_type": "stream",
     "text": [
      "Enter a Password:  12345Mhassu\n"
     ]
    },
    {
     "name": "stdout",
     "output_type": "stream",
     "text": [
      " Password is valid!\n"
     ]
    }
   ],
   "source": [
    "password = input(\"Enter a Password: \")  \n",
    "if len(password) < 8:                                       # Length of password must be greater than 8\n",
    "    print(\" Password should contain atleast 8 words.\")\n",
    "else:\n",
    "    has_upper_letter = False      # All booleans are False because to check condition that\n",
    "    has_lower_letter = False       #   that there is any uppercase , lowercase and digit\n",
    "    has_digit = False\n",
    "\n",
    "    for temp in password :\n",
    "        if temp >= 'A' and temp <= 'Z':      # check is there any upper letter in password\n",
    "            has_upper_letter = True        # if Yes then make the boolean True\n",
    "\n",
    "        elif temp >= 'a' and temp <= 'z' :   # check  is there any lower letter in password\n",
    "            has_lower_letter = True           #if yes then make the boolean True\n",
    "\n",
    "        elif temp >= '0' and temp <= '9' :  # check is there any digit in password \n",
    "            has_digit = True               # if yes then make the boolean True\n",
    "\n",
    "    if has_upper_letter and has_lower_letter and has_digit:  # if all are conditions are present than the password is valid\n",
    "        print(\" Password is valid!\")\n",
    "    else:\n",
    "        print(\" Password must contain uppercase , lowercase and digit.\")\n",
    "            "
   ]
  }
 ],
 "metadata": {
  "kernelspec": {
   "display_name": "Python 3 (ipykernel)",
   "language": "python",
   "name": "python3"
  },
  "language_info": {
   "codemirror_mode": {
    "name": "ipython",
    "version": 3
   },
   "file_extension": ".py",
   "mimetype": "text/x-python",
   "name": "python",
   "nbconvert_exporter": "python",
   "pygments_lexer": "ipython3",
   "version": "3.13.5"
  }
 },
 "nbformat": 4,
 "nbformat_minor": 5
}
