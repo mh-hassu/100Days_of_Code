{
 "cells": [
  {
   "cell_type": "markdown",
   "id": "0ec00718-8dd8-4212-888e-8d67934a7e40",
   "metadata": {},
   "source": [
    "# Calculator"
   ]
  },
  {
   "cell_type": "code",
   "execution_count": 2,
   "id": "d73a96ce-ceda-46cb-a108-5c8d609e159f",
   "metadata": {},
   "outputs": [
    {
     "name": "stdin",
     "output_type": "stream",
     "text": [
      "Enter the First number:  2025\n",
      "Enter the Second number:  100\n",
      "Enter the Operation (+,/,*,-,%,**,//):  %\n"
     ]
    },
    {
     "name": "stdout",
     "output_type": "stream",
     "text": [
      " Remainder of 2025.0 and 100.0 is 25.0\n"
     ]
    }
   ],
   "source": [
    "num1 = float(input(\"Enter the First number: \"))\n",
    "num2 = float(input(\"Enter the Second number: \"))\n",
    "operation = input(\"Enter the Operation (+,/,*,-,%,**,//): \")\n",
    "\n",
    "\n",
    "if operation == \"+\":\n",
    "    print(f\" Sum of {num1} and {num2} is {num1 + num2}\")\n",
    "elif operation == \"-\":\n",
    "    print(f\" Difference of {num1} and {num2} is {num1 - num2}\")\n",
    "elif operation == \"*\":\n",
    "    print(f\" Product of {num1} and {num2} is {num1 * num2}\")\n",
    "elif operation == \"/\":\n",
    "    print(f\" Quotient of {num1} and {num2} is {num1 / num2}\")\n",
    "elif operation == \"**\":\n",
    "    print(f\" Power of {num1} and {num2} is {num1 ** num2}\")  \n",
    "elif operation == \"//\":\n",
    "    print(f\" Division of {num1} and {num2} is {num1 // num2}\")     \n",
    "elif operation == \"%\":\n",
    "    print(f\" Remainder of {num1} and {num2} is {num1 % num2}\")  \n",
    "else:\n",
    "    print(\"Invalid input.\")"
   ]
  }
 ],
 "metadata": {
  "kernelspec": {
   "display_name": "Python 3 (ipykernel)",
   "language": "python",
   "name": "python3"
  },
  "language_info": {
   "codemirror_mode": {
    "name": "ipython",
    "version": 3
   },
   "file_extension": ".py",
   "mimetype": "text/x-python",
   "name": "python",
   "nbconvert_exporter": "python",
   "pygments_lexer": "ipython3",
   "version": "3.13.5"
  }
 },
 "nbformat": 4,
 "nbformat_minor": 5
}
